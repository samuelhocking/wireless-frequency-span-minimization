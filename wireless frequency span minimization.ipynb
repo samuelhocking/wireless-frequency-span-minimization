{
 "cells": [
  {
   "cell_type": "code",
   "execution_count": 1,
   "metadata": {},
   "outputs": [],
   "source": [
    "### imports and notebook parameters\n",
    "\n",
    "import numpy as np\n",
    "import pandas as pd\n",
    "import matplotlib.pyplot as plt\n",
    "pd.options.display.max_rows = 999\n",
    "float_formatter = \"{:,.4f}\".format\n",
    "np.set_printoptions(formatter={'float_kind':float_formatter}, linewidth = 300)\n",
    "from scipy.optimize import linprog\n",
    "import warnings\n",
    "from scipy.linalg import LinAlgWarning\n",
    "warnings.filterwarnings(action='ignore', category=LinAlgWarning)\n",
    "import math\n",
    "from numpy.random import default_rng\n",
    "rng = default_rng()\n",
    "pd.set_option(\"max_colwidth\", 250)"
   ]
  },
  {
   "cell_type": "code",
   "execution_count": 2,
   "metadata": {},
   "outputs": [],
   "source": [
    "### non-class functions\n",
    "# these are used throughout the two major class objects\n",
    "\n",
    "# returns ab-coordinates for a generic concentric hexagonal array given a radius argument \n",
    "def hextoab(hexrad):\n",
    "    ab_coords = []\n",
    "    for a in range(-hexrad,hexrad+1,1):\n",
    "        for b in range(-hexrad-min(a,0),hexrad-max(a,0)+1,1):\n",
    "            ab_coords.append([a,b])\n",
    "    #        print(f'({a},{b})')\n",
    "    ab_coords = np.array(ab_coords)\n",
    "    return ab_coords\n",
    "\n",
    "# similar, but for a parallelogram\n",
    "def hexparatoab(hexrad):\n",
    "    ab_coords = []\n",
    "    for a in range(-hexrad,hexrad+1,1):\n",
    "        for b in range(-hexrad,hexrad+1,1):\n",
    "            ab_coords.append([a,b])\n",
    "    #        print(f'({a},{b})')\n",
    "    ab_coords = np.array(ab_coords)\n",
    "    return ab_coords\n",
    "\n",
    "# linear transformations from ab-coordinates to xy and vice-versa\n",
    "def Txy(T,a,b):\n",
    "    return T @ np.array([a,b])\n",
    "def Tab(Tinv,x,y):\n",
    "    return Tinv @ np.array([x,y])\n",
    "\n",
    "# standard matrix and inverse definition and calculation, for linear transformation above\n",
    "T = np.array([[np.sqrt(3), np.sqrt(3)/2],[0,3/2]])\n",
    "Tinv = np.linalg.inv(T)\n",
    "\n",
    "# function that returns xy coordinates given ab coordinates\n",
    "def abtoxy(ab_coords):\n",
    "    xy_coords = []\n",
    "    for i in range(len(ab_coords)):\n",
    "        xy_coords.append(Txy(T, *ab_coords[i]))\n",
    "    xy_coords = np.array(xy_coords)\n",
    "    return xy_coords\n",
    "\n",
    "# function that returns ab coordinate given xy coordinates\n",
    "def xytoab(xy_coords):\n",
    "    ab_coords = []\n",
    "    for i in range(len(xy_coords)):\n",
    "        ab_coords.append(Tab(Tinv, *xy_coords[i]))\n",
    "    ab_coords = np.array(ab_coords)\n",
    "    return ab_coords    \n",
    "\n",
    "# returns a vector of length l and one entries at indices provided in array argument\n",
    "def block(arr, l):\n",
    "    return np.array([1 if i in arr else 0 for i in range(l)])\n",
    "\n",
    "# pads a block (as defined in above function) with zeroes on either side corresponding\n",
    "# to its place based on number of nodes (towers), channels, and the channel index argument\n",
    "# the point in to return a nearly sparse row that can be added with other padded rows\n",
    "def padblock(block, ch_idx, nodes, chans):\n",
    "    return np.pad(block, pad_width=(nodes*ch_idx,nodes*(chans-ch_idx-1)))\n",
    "\n",
    "# standard basis vector function\n",
    "def sbv(idx, len):\n",
    "    return np.array([1 if i == idx else 0 for i in range(len)])\n",
    "\n",
    "# adds a series of padded blocks to construct a row. tool to construct constraint matrices\n",
    "def row(padblocks):\n",
    "    pbmatrix = np.vstack([padblocks])\n",
    "    return pbmatrix.sum(axis=0)\n",
    "\n",
    "# returns array of xy-coordinates generated from uniform distribution and specified range\n",
    "def randomxy(points,xrange=5,yrange=5):\n",
    "    return np.array(\n",
    "        [[a,b] for (a,b) in zip(rng.random(points)*xrange, rng.random(points)*yrange)]\n",
    "                    )"
   ]
  },
  {
   "cell_type": "code",
   "execution_count": 3,
   "metadata": {},
   "outputs": [],
   "source": [
    "# main class for an optimization problem, based around the specific tower array\n",
    "class towers():\n",
    "    def __init__(self, xy_coords, channels, adj_k=2):\n",
    "        self.xy_coords = xy_coords        \n",
    "        self.ab_coords = xytoab(self.xy_coords)\n",
    "        self.chans = channels\n",
    "        self.nodes = len(self.xy_coords)\n",
    "        # adj_k argument is min allowed diff between 2s towers, but\n",
    "        # functionally k-1 is maximum disallowed diff\n",
    "        self.adj_k=adj_k-1      \n",
    "        self.iterations=0\n",
    "        self.branch_count=0\n",
    "        self.calc_dist_arr()\n",
    "        self.calc_d_pairs()\n",
    "        self.linprog_matrices()\n",
    "        self.makeMasterDF()\n",
    "        self.iters = []\n",
    "        self.intsolns = []\n",
    "        self.minintspan = []\n",
    "        self.minintsoln = []\n",
    "        self.openedbranches = []\n",
    "\n",
    "    # function to compute distances between all towers    \n",
    "    def calc_dist_arr(self):\n",
    "        dist_arr = np.array([])\n",
    "        for i in range(len(self.xy_coords)):\n",
    "            u = self.xy_coords - self.xy_coords[i]\n",
    "            udots = np.array([np.sqrt(np.dot(x,x)) for x in u])\n",
    "            if i == 0:\n",
    "                dist_arr = udots\n",
    "            else:\n",
    "                dist_arr = np.vstack([dist_arr, udots])\n",
    "        self.dist_arr = dist_arr\n",
    "    # function to compute constrained 2s and 4s dist pairs\n",
    "    # the 2s constraint set is referred to as d1\n",
    "    # the 4s constraint set is referred to as d2\n",
    "    def calc_d_pairs(self):\n",
    "        for i in range(self.dist_arr.shape[0]):\n",
    "            v = self.dist_arr[i]\n",
    "            d1 = [[i,j] for j in range(len(v)) if ((v[j] <= 2) & (v[j] > 0))]\n",
    "            d2 = [[i,k] for k in range(len(v)) if ((v[k] <= 4) & (v[k] > 0))]\n",
    "            if i == 0:\n",
    "                self.d1_pairs = d1\n",
    "                self.d2_pairs = d2\n",
    "            else:\n",
    "                self.d1_pairs = self.d1_pairs + d1\n",
    "                self.d2_pairs = self.d2_pairs + d2\n",
    "        for pair in self.d1_pairs:\n",
    "            pair.sort()\n",
    "        for pair in self.d2_pairs:\n",
    "            pair.sort()\n",
    "        self.d1_pairs.sort()\n",
    "        self.d2_pairs.sort()\n",
    "        self.d1_pairs = [self.d1_pairs[i] for i in range(len(self.d1_pairs)) \n",
    "                            if self.d1_pairs[i] not in self.d1_pairs[:i]]\n",
    "        self.d2_pairs = [self.d2_pairs[i] for i in range(len(self.d2_pairs)) \n",
    "                            if self.d2_pairs[i] not in self.d2_pairs[:i]]\n",
    "\n",
    "    # function to assemble linear program matrices, with flexibility for varied k\n",
    "    def linprog_matrices(self):\n",
    "        d2c = len(self.d2_pairs)\n",
    "        d1c = len(self.d1_pairs)\n",
    "        nodes = self.nodes\n",
    "        chans = self.chans\n",
    "\n",
    "        for i in range(chans):\n",
    "            for j in range(len(self.d2_pairs)):\n",
    "                if ((i == 0) & (j == 0)):\n",
    "                    self.d2mtx = row([padblock(block(self.d2_pairs[j], nodes), i, nodes, chans)])\n",
    "                else:\n",
    "                    self.d2mtx = np.vstack([self.d2mtx,\n",
    "                                    row([ padblock(block(self.d2_pairs[j], nodes), i, nodes, chans)])\n",
    "                                    ])\n",
    "        self.d1umtx = np.array([]) #sub-matrix for 2s constraints looking to higher channels\n",
    "        self.d1dmtx = np.array([]) #sub-matrix for 2s constraints looking to lower channels\n",
    "        if self.adj_k > 0:\n",
    "            for i in range(chans):\n",
    "                for j in range(len(self.d1_pairs)):\n",
    "                    for k in range(1,self.adj_k+1):\n",
    "                        if i + k < chans:\n",
    "                            if len(self.d1umtx) == 0:\n",
    "                                self.d1umtx = row([\n",
    "                                    padblock(sbv(self.d1_pairs[j][0],nodes), i, nodes, chans),\n",
    "                                    padblock(sbv(self.d1_pairs[j][1],nodes), i+k, nodes, chans)\n",
    "                                                    ])\n",
    "                            else:\n",
    "                                self.d1umtx = np.vstack([self.d1umtx,\n",
    "                                    row([\n",
    "                                        padblock(sbv(self.d1_pairs[j][0],nodes), i, nodes, chans),\n",
    "                                        padblock(sbv(self.d1_pairs[j][1],nodes), i+k, nodes, chans)\n",
    "                                            ])\n",
    "                                                        ])\n",
    "            for i in range(chans):\n",
    "                for j in range(len(self.d1_pairs)):\n",
    "                    for k in range(1,self.adj_k+1):\n",
    "                        if i - k >= 0:\n",
    "                            if len(self.d1dmtx) == 0:\n",
    "                                self.d1dmtx = row([\n",
    "                                    padblock(sbv(self.d1_pairs[j][0],nodes), i, nodes, chans),\n",
    "                                    padblock(sbv(self.d1_pairs[j][1],nodes), i-k, nodes, chans)\n",
    "                                                    ])\n",
    "                            else:\n",
    "                                self.d1dmtx = np.vstack([self.d1dmtx,\n",
    "                                    row([\n",
    "                                        padblock(sbv(self.d1_pairs[j][0],nodes), i, nodes, chans),\n",
    "                                        padblock(sbv(self.d1_pairs[j][1],nodes), i-k, nodes, chans)\n",
    "                                            ])\n",
    "                                                        ])\n",
    "        for i in range(nodes):\n",
    "            if i == 0:\n",
    "                eq = np.reshape([sbv(i,nodes)] * chans, (1, nodes*chans))\n",
    "            else:\n",
    "                eq = np.vstack([eq, np.reshape([sbv(i,nodes)] * chans, (1, nodes*chans))])\n",
    "        if self.adj_k > 0:\n",
    "            self.Aub = np.vstack([self.d2mtx, self.d1umtx, self.d1dmtx])\n",
    "        else:\n",
    "            self.Aub = self.d2mtx\n",
    "        self.eq = eq\n",
    "        self.bub = np.ones(len(self.Aub))\n",
    "        self.c = np.array([(nodes+1) ** ((i // nodes)) for i in range(chans*nodes)])\n",
    "\n",
    "    # function to make a DataFrame (really just a single row) recording key information\n",
    "    def makeMasterDF(self):\n",
    "        self.dfcols = [ 'branch coords',\n",
    "                        'lineage',\n",
    "                        'generation',\n",
    "                        'gen counter',\n",
    "                        'children',\n",
    "                        'span',\n",
    "                        'obj function', \n",
    "                        'open chans',\n",
    "                        'open nodes',\n",
    "                        'closed nodes',\n",
    "                        'num children',\n",
    "                        'num open chans',\n",
    "                        'num open nodes',\n",
    "                        'num closed nodes',\n",
    "                        'status',\n",
    "                        'ch assgnmts']\n",
    "        self.masterDF = pd.DataFrame(columns=self.dfcols)\n",
    "\n",
    "    # function that returns a branch object for a given fork_arr, \n",
    "    # which is the set of integer channel constraints\n",
    "    def branch(self, fork_arr):\n",
    "        return branch(self.Aub, self.eq, self.bub, self.c, self.nodes, \n",
    "                        self.chans, self.dfcols, self.lineages, fork_arr)\n",
    "    \n",
    "    # generates initial set of branches for a new towers class object\n",
    "    def plant(self):\n",
    "        self.lineages = []\n",
    "        branch = self.branch([])\n",
    "        newdf = branch.df\n",
    "        self.masterDF = pd.concat([self.masterDF, newdf])\n",
    "\n",
    "        gen = [int(a) for a in list(self.masterDF['generation'])]\n",
    "        stat = list(self.masterDF['status'])\n",
    "        stat_int = [1 if a == 'open' else 0 for a in stat]\n",
    "        adj_gen = list(np.array(gen) * np.array(stat_int))\n",
    "        ctr = [len([x for x in adj_gen[:y+1] if ((x == gen[y]) & (adj_gen[y] > 0))])\n",
    "                     for y in range(len(gen))]\n",
    "        self.masterDF['gen counter'] = ctr\n",
    "        self.lineages = [a for a in branch.children]\n",
    "        self.linnums = list(range(len(self.lineages)))\n",
    "\n",
    "    # prevents failure for some edge cases where apparently feasible constraints are not\n",
    "    # the set of feasible branches is given by non-zero values in variable entries,\n",
    "    # but rare low values can be \"hoaxes\"\n",
    "    def trybranch(self, fork_arr):\n",
    "        try:\n",
    "            return self.branch(fork_arr).df\n",
    "        except TypeError:\n",
    "            pass\n",
    "    \n",
    "    # function to remove duplicates for a list, refers to self\n",
    "    def remove_dupes(self, tup):\n",
    "        counts = [len([x for x in tup[:y+1] if set(x) == set(tup[y])]) for y in range(len(tup))]\n",
    "        return tuple(tup[i] for i in range(len(tup)) if counts[i] <=1 )\n",
    "\n",
    "    # function to remove elements from tup1 (tuple 1) that are in tup2 (tuple 2).\n",
    "    # the set method only works on coordinate tuples, not lists of lists\n",
    "    def screen_dupes(self, tup1, tup2):\n",
    "        counts = [len([x for x in range(len(tup2)) if set(tup1[y]) == set(tup2[x])])\n",
    "                     for y in range(len(tup1))]\n",
    "        return list(tup1[i] for i in range(len(tup1)) if counts[i] == 0 )\n",
    "\n",
    "    # main branching function. identifies branch path, checks for already checked forks, \n",
    "    # calls branch function defined above, and runs back-end statistics\n",
    "    def grow(self, type='drill', lin=0):\n",
    "        if type == 'drill':\n",
    "            self.maxgen = self.masterDF['generation'].loc[self.masterDF['status'] == 'open'].max()\n",
    "            rawchildren = list(self.masterDF['children'].loc[\n",
    "                (self.masterDF['status'] == 'open') & \n",
    "                (self.masterDF['gen counter'] == 1) & \n",
    "                (self.masterDF['generation'] == self.maxgen)])\n",
    "            self.masterDF.loc[\n",
    "                ((self.masterDF['status'] == 'open') & \n",
    "                 (self.masterDF['gen counter'] == 1) & \n",
    "                 (self.masterDF['generation'] == self.maxgen)), ['status']] = 'closed'\n",
    "        if type == 'drill_lin':\n",
    "            self.maxgen = self.masterDF['generation'].loc[\n",
    "                (self.masterDF['status'] == 'open') & \n",
    "                (self.masterDF['lineage'] == lin)].max()\n",
    "            mingenctr = self.masterDF['gen counter'].loc[\n",
    "                (self.masterDF['status'] == 'open') & \n",
    "                (self.masterDF['lineage'] == lin) & \n",
    "                (self.masterDF['generation'] == self.maxgen)].max()\n",
    "            rawchildren = list(self.masterDF['children'].loc[\n",
    "                (self.masterDF['status'] == 'open') & \n",
    "                (self.masterDF['gen counter'] == mingenctr) & \n",
    "                (self.masterDF['generation'] == self.maxgen)])\n",
    "            self.masterDF.loc[\n",
    "                ((self.masterDF['status'] == 'open') &\n",
    "                 (self.masterDF['gen counter'] == mingenctr) &\n",
    "                (self.masterDF['generation'] == self.maxgen)), ['status']] = 'closed'\n",
    "        if type == 'maxgen_min_obj':\n",
    "            self.maxgen = self.masterDF['generation'].loc[self.masterDF['status'] == 'open'].max()\n",
    "            self.min_obj_open_maxgen = self.masterDF['obj function'].loc[\n",
    "                (self.masterDF['status'] == 'open') & \n",
    "                (self.masterDF['generation'] == self.maxgen)].min()\n",
    "            rawchildren = list(self.masterDF['children'].loc[\n",
    "                ((self.masterDF['generation'] == self.maxgen) &\n",
    "                 (self.masterDF['obj function'] == self.min_obj_open_maxgen))])\n",
    "            self.masterDF.loc[\n",
    "                ((self.masterDF['generation'] == self.maxgen) &\n",
    "                 (self.masterDF['obj function'] == self.min_obj_open_maxgen)), ['status']] = 'closed'\n",
    "\n",
    "        self.flatlist = []\n",
    "        for j in rawchildren:\n",
    "            self.flatlist = self.flatlist + j\n",
    "\n",
    "        flat_tuple = list(tuple(tuple(b) for b in a) for a in self.flatlist)\n",
    "        flat_tuple = self.remove_dupes(flat_tuple)\n",
    "        branch_coords_list =  list(self.masterDF['branch coords'].loc[\n",
    "            (self.masterDF['generation'] >= 3)])\n",
    "        branch_coords_tuple = list(tuple(tuple(b) for b in a) for a in branch_coords_list)\n",
    "        screened_flat_tuple = self.screen_dupes(flat_tuple, branch_coords_tuple)\n",
    "        screened_flatlist = list(list(list(b) for b in a) for a in screened_flat_tuple)\n",
    "        self.flatlist = screened_flatlist\n",
    "\n",
    "        self.dfarr = [self.masterDF] + [self.trybranch(i) for i in self.flatlist]\n",
    "        self.masterDF = pd.concat(self.dfarr)\n",
    "        self.masterDF.reset_index(inplace=True)\n",
    "        self.masterDF.drop(columns=['index'], inplace=True)\n",
    "\n",
    "        gen = [int(a) for a in list(self.masterDF['generation'])]\n",
    "        stat = list(self.masterDF['status'])\n",
    "        stat_int = [1 if a == 'open' else 0 for a in stat]\n",
    "        adj_gen = list(np.array(gen) * np.array(stat_int))\n",
    "        ctr = [len([x for x in adj_gen[:y+1] if ((x == gen[y]) & \n",
    "            (adj_gen[y] > 0))]) for y in range(len(gen))]\n",
    "        self.masterDF['gen counter'] = ctr\n",
    "        self.maxgen = self.masterDF['generation'].loc[self.masterDF['status'] == 'open'].max()\n",
    "        self.min_int_span = self.masterDF['span'].loc[self.masterDF['num open nodes'] == 0].min()\n",
    "        self.min_int_obj = self.masterDF['obj function'].loc[\n",
    "            self.masterDF['num open nodes'] == 0].min()      \n",
    "        self.iterations += 1\n",
    "        self.branch_count += len(self.flatlist)\n",
    "\n",
    "    # identifies and eliminates inferior branches\n",
    "    def prune(self):\n",
    "        self.masterDF.loc[((self.masterDF['status'] == 'open') & \n",
    "            (self.masterDF['num open nodes'] == 0)), ['status']] = 'closed'\n",
    "        self.masterDF.loc[((self.masterDF['status'] == 'open') & \n",
    "            (self.masterDF['span'] >= self.min_int_span)), ['status']] = 'closed'\n",
    "        self.masterDF.loc[((self.masterDF['status'] == 'open') & \n",
    "            (self.masterDF['obj function'] >= self.min_int_obj)), ['status']] = 'closed'\n",
    "        self.masterDF = self.masterDF.loc[((self.masterDF['status'] == 'open') | \n",
    "            (self.masterDF['num open nodes'] == 0))].copy(deep=True)\n",
    "        gen = [int(a) for a in list(self.masterDF['generation'])]\n",
    "        stat = list(self.masterDF['status'])\n",
    "        stat_int = [1 if a == 'open' else 0 for a in stat]\n",
    "        adj_gen = list(np.array(gen) * np.array(stat_int))\n",
    "        ctr = [len([x for x in adj_gen[:y+1] if ((x == gen[y]) & \n",
    "            (adj_gen[y] > 0))]) for y in range(len(gen))]\n",
    "        self.masterDF['gen counter'] = ctr\n",
    "        self.maxgen = self.masterDF['generation'].loc[self.masterDF['status'] == 'open'].max()\n",
    "        self.min_obj_open_maxgen = self.masterDF['obj function'].loc[\n",
    "            (self.masterDF['status'] == 'open') & \n",
    "            (self.masterDF['generation'] == self.maxgen)].min()  \n",
    "\n",
    "    # a reset function for the towers object. wipes all branches \n",
    "    # (by erasing master DataFrame, which is the branch ledger), and starts over\n",
    "    def replant(self):\n",
    "        self.makeMasterDF()\n",
    "        self.iterations=0\n",
    "        self.plant()\n",
    "\n",
    "    # focused drill down branching routine\n",
    "    def bnb_drill(self, iters):\n",
    "        for i in range(iters):\n",
    "            self.grow()\n",
    "            self.prune()\n",
    "            self.iters.append(self.iterations)\n",
    "            self.intsolns.append(len(self.masterDF.loc[self.masterDF['num open nodes'] == 0]))\n",
    "            self.minintspan.append(self.min_int_span)\n",
    "            self.minintsoln.append(self.min_int_obj)\n",
    "            self.openedbranches.append(self.branch_count)\n",
    "        self.makeResultsDF()\n",
    "        self.get_ch_assgnmts_DF()\n",
    "        if len(self.ch_assgnmts_DF) > 0:\n",
    "            self.ch_assgnmt = list(self.masterDF['ch assgnmts'].loc[\n",
    "                (self.masterDF['num open nodes'] == 0) & \n",
    "                (self.masterDF['span'] == self.min_int_span)])[-1]\n",
    "        else:\n",
    "            self.ch_assgnmt = []\n",
    "\n",
    "    # drill down routine with cycles through all lineages\n",
    "    def bnb_lin_drill_cycle(self, iters, cycles=1):\n",
    "        for k in range(cycles):\n",
    "            for j in self.linnums:\n",
    "                for i in range(iters):\n",
    "                    self.grow(type='drill_lin', lin=j)\n",
    "                    self.prune()\n",
    "                    self.iters.append(self.iterations)\n",
    "                    self.intsolns.append(len(self.masterDF.loc[\n",
    "                        self.masterDF['num open nodes'] == 0]))\n",
    "                    self.minintspan.append(self.min_int_span)\n",
    "                    self.minintsoln.append(self.min_int_obj)\n",
    "                    self.openedbranches.append(self.branch_count)\n",
    "        self.makeResultsDF()\n",
    "        self.get_ch_assgnmts_DF()\n",
    "        if len(self.ch_assgnmts_DF) > 0:\n",
    "            self.ch_assgnmt = list(self.masterDF['ch assgnmts'].loc[\n",
    "                (self.masterDF['num open nodes'] == 0) & \n",
    "                (self.masterDF['span'] == self.min_int_span)])[-1]\n",
    "        else:\n",
    "            self.ch_assgnmt = []\n",
    "\n",
    "    # branching routine that selects the minimum objective function val from newest generation \n",
    "    # (in theory most promising branch)\n",
    "    def bnb_min_obj_max_gen(self, iters):\n",
    "        for i in range(iters):\n",
    "            self.grow('maxgen_min_obj')\n",
    "            self.prune()\n",
    "            self.iters.append(self.iterations)\n",
    "            self.intsolns.append(len(self.masterDF.loc[self.masterDF['num open nodes'] == 0]))\n",
    "            self.minintspan.append(self.min_int_span)\n",
    "            self.minintsoln.append(self.min_int_obj)\n",
    "            self.openedbranches.append(self.branch_count)\n",
    "        self.makeResultsDF()\n",
    "        self.get_ch_assgnmts_DF()\n",
    "        if len(self.ch_assgnmts_DF) > 0:\n",
    "            self.ch_assgnmt = list(self.masterDF['ch assgnmts'].loc[\n",
    "                (self.masterDF['num open nodes'] == 0) & \n",
    "                (self.masterDF['span'] == self.min_int_span)])[-1]\n",
    "        else:\n",
    "            self.ch_assgnmt = []\n",
    "\n",
    "    # make DataFrame tabulating performance results by branching iteration\n",
    "    def makeResultsDF(self):\n",
    "        self.resdfdata = { 'iters' : self.iters,\n",
    "                        'integer solns' : self.intsolns,\n",
    "                        'min integer span' : self.minintspan,\n",
    "                        'min integer obj' : self.minintsoln,\n",
    "                        'opened branches' : self.openedbranches\n",
    "                        }\n",
    "        self.resultsdf = pd.DataFrame(self.resdfdata, index = range(len(self.iters)))\n",
    "\n",
    "    # finds list of optimal channel assignments from list of integer solutions    \n",
    "    def get_ch_assgnmts_DF(self):\n",
    "        self.ch_assgnmts_DF = self.masterDF[['span','obj function','ch assgnmts']].loc[\n",
    "            (self.masterDF['num open nodes'] == 0) & \n",
    "            (self.masterDF['span'] == self.min_int_span)].copy(deep=True)\n",
    "\n",
    "    # function to add channel number next to point on graphs\n",
    "    def ann_pt_ch(self,x,y,ch):\n",
    "        s = f\"({ch+1:.0f})\"\n",
    "        self.ax.annotate(s,xy=(x,y),xytext=(-5,-15),textcoords='offset points')\n",
    "\n",
    "    # function to add coordinates next to point on graphs    \n",
    "    def ann_pt(self,x,y,dec=0):\n",
    "        s = f\"({x:.{dec}f},{y:.{dec}f})\"\n",
    "        self.ax.annotate(s,xy=(x,y),xytext=(-5,-15),textcoords='offset points')\n",
    "\n",
    "    # function to generate plot with channel assignment nums\n",
    "    def plot_channels(self, abax=False, square=True, buffer=0.5, fig_size=(3,3)):\n",
    "        if square == True:\n",
    "            x_min = math.floor(min(self.xy_coords[:,0].min(),self.xy_coords[:,1].min())) - buffer\n",
    "            x_max = math.ceil(max(self.xy_coords[:,0].max(),self.xy_coords[:,1].max())) + buffer\n",
    "            y_min = x_min\n",
    "            y_max = x_max\n",
    "        else:\n",
    "            x_min = math.floor(self.xy_coords[:,0].min()) - buffer\n",
    "            x_max = math.ceil(self.xy_coords[:,0].max()) + buffer\n",
    "            y_min = math.floor(self.xy_coords[:,1].min()) - buffer\n",
    "            y_max = math.ceil(self.xy_coords[:,1].max()) + buffer\n",
    "        self.plot=plt.figure(figsize=fig_size)\n",
    "        self.ax = plt.axes()\n",
    "        x = np.linspace(x_min,x_max,500)\n",
    "        if abax == True:\n",
    "            self.ax.plot(x, 0 * x, label=\"a-axis\")\n",
    "            self.ax.plot(x, np.sqrt(3) * x, label = \"b-axis\")\n",
    "            self.ax.legend()\n",
    "        for i in range(len(self.xy_coords)):\n",
    "            self.ax.scatter(self.xy_coords[i,0], self.xy_coords[i,1],s=50,color=\"blue\")\n",
    "        self.ax.set_xlim(xmin=x_min, xmax=x_max)\n",
    "        self.ax.set_ylim(ymin=y_min, ymax=y_max)\n",
    "\n",
    "        for i in self.ch_assgnmt:\n",
    "            self.ann_pt_ch(self.xy_coords[i[0],0],self.xy_coords[i[0],1],i[1])\n",
    "\n",
    "    # function to generate plot with xy points and labels\n",
    "    def plot_xy_points(self, abax=False, square=True, buffer=0.5, fig_size=(3,3)):\n",
    "        if square == True:\n",
    "            x_min = math.floor(min(self.xy_coords[:,0].min(),self.xy_coords[:,1].min())) - buffer\n",
    "            x_max = math.ceil(max(self.xy_coords[:,0].max(),self.xy_coords[:,1].max())) + buffer\n",
    "            y_min = x_min\n",
    "            y_max = x_max\n",
    "        else:\n",
    "            x_min = math.floor(self.xy_coords[:,0].min()) - buffer\n",
    "            x_max = math.ceil(self.xy_coords[:,0].max()) + buffer\n",
    "            y_min = math.floor(self.xy_coords[:,1].min()) - buffer\n",
    "            y_max = math.ceil(self.xy_coords[:,1].max()) + buffer\n",
    "\n",
    "        self.plot=plt.figure(figsize=fig_size)\n",
    "        self.ax = plt.axes()\n",
    "        x = np.linspace(x_min,x_max,500)\n",
    "        if abax == True:\n",
    "            self.ax.plot(x, 0 * x, label=\"a-axis\")\n",
    "            self.ax.plot(x, np.sqrt(3) * x, label = \"b-axis\")\n",
    "            self.ax.legend()\n",
    "        for i in range(len(self.xy_coords)):\n",
    "            self.ax.scatter(self.xy_coords[i,0], self.xy_coords[i,1],s=50,color=\"blue\")\n",
    "        self.ax.set_xlim(xmin=x_min, xmax=x_max)\n",
    "        self.ax.set_ylim(ymin=y_min, ymax=y_max)\n",
    "        for i in self.xy_coords:\n",
    "            self.ann_pt(i[0],i[1],dec=2)\n",
    "\n",
    "    # function to generate plot with ab points and labels\n",
    "    def plot_ab_points(self, square=True, buffer=0.5, fig_size=(3,3)):\n",
    "        if square == True:\n",
    "            x_min = math.floor(min(self.ab_coords[:,0].min(),self.ab_coords[:,1].min())) - buffer\n",
    "            x_max = math.ceil(max(self.ab_coords[:,0].max(),self.ab_coords[:,1].max())) + buffer\n",
    "            y_min = x_min\n",
    "            y_max = x_max\n",
    "        else:\n",
    "            x_min = math.floor(self.ab_coords[:,0].min()) - buffer\n",
    "            x_max = math.ceil(self.ab_coords[:,0].max()) + buffer\n",
    "            y_min = math.floor(self.ab_coords[:,1].min()) - buffer\n",
    "            y_max = math.ceil(self.ab_coords[:,1].max()) + buffer\n",
    "\n",
    "        self.plot=plt.figure(figsize=fig_size)\n",
    "        self.ax = plt.axes()\n",
    "        x = np.linspace(x_min,x_max,500)\n",
    "        self.ax.plot(x, 0 * x, label=\"a-axis\")\n",
    "        self.ax.vlines(0, ymin=y_min, ymax=y_max, color = \"orange\", label = \"b-axis\")\n",
    "        self.ax.legend()\n",
    "        for i in range(len(self.ab_coords)):\n",
    "            self.ax.scatter(self.ab_coords[i,0], self.ab_coords[i,1],s=50,color=\"blue\")\n",
    "        self.ax.set_xlim(xmin=x_min, xmax=x_max)\n",
    "        self.ax.set_ylim(ymin=y_min, ymax=y_max)\n",
    "        for i in self.ab_coords:\n",
    "            self.ann_pt(i[0],i[1],dec=0)"
   ]
  },
  {
   "cell_type": "code",
   "execution_count": 4,
   "metadata": {},
   "outputs": [],
   "source": [
    "# branch class data structure. this contains information pertaining to a specific branch\n",
    "# which is a distinct linear program with some degree of relaxation\n",
    "class branch():\n",
    "    def __init__(self, Aub, eq, bub, c, nodes, chans, dfcols, lineages, fork_arr, int_thres = 5e-10):\n",
    "        self.Aub = Aub\n",
    "        self.eq = eq\n",
    "        self.bub = bub\n",
    "        self.c = c\n",
    "        self.nodes = nodes\n",
    "        self.chans = chans\n",
    "        self.dfcols = dfcols\n",
    "        self.lineages = lineages\n",
    "        forkarr = fork_arr\n",
    "\n",
    "        if len(forkarr) > 0:\n",
    "            self.Aeq = np.vstack([\n",
    "                                  self.eq,\n",
    "                                  [padblock(sbv(forkarr[i][0], self.nodes), \n",
    "                                    forkarr[i][1], self.nodes, self.chans) \n",
    "                                    for i in range(len(forkarr))]\n",
    "                                  ])\n",
    "        else:\n",
    "            self.Aeq = self.eq\n",
    "        self.beq = np.ones(len(self.Aeq))\n",
    "        self.result = linprog(c=self.c, A_eq=self.Aeq, b_eq=self.beq, A_ub=self.Aub, \n",
    "            b_ub=self.bub, bounds=(0,1), method='highs')\n",
    "        idx = [i if np.round(self.result.x,2)[i] > 0 else 0 for i in range(len(self.result.x))]\n",
    "        self.rsltmtx = self.result.x.reshape(self.chans,self.nodes)\n",
    "        self.span = (max(idx)) // self.nodes + 1\n",
    "        self.nodes_closed = [i for i in range(self.rsltmtx.shape[1]) if \n",
    "            all(abs(self.rsltmtx[:,i]) % 1 < int_thres)]\n",
    "        self.nodes_open = [i for i in range(self.rsltmtx.shape[1]) if \n",
    "            any(abs(self.rsltmtx[:,i]) % 1 >= int_thres)]\n",
    "        self.chans_closed = [i for i in range(self.rsltmtx.shape[0]) if \n",
    "            all(abs(self.rsltmtx[i,:]) % 1 < int_thres)]\n",
    "        self.chans_open = [i for i in range(self.rsltmtx.shape[0]) if \n",
    "            any(abs(self.rsltmtx[i,:]) % 1 >= int_thres)]\n",
    "        \n",
    "        self.chan_opennodes = []\n",
    "        for i in self.chans_open:\n",
    "            self.chan_opennodes.append([j for j in range(self.rsltmtx.shape[1]) if \n",
    "                abs(self.rsltmtx[i,j] % 1 >= int_thres)])\n",
    "\n",
    "        self.children = []\n",
    "        if len(self.chans_open) > 0:\n",
    "            for j in self.chan_opennodes[0]:\n",
    "                self.children.append([j, self.chans_open[0]])\n",
    "        else:\n",
    "            self.children = []\n",
    "\n",
    "        if len(forkarr) > 0:\n",
    "            self.children = [forkarr + [i] for i in self.children]\n",
    "        else:\n",
    "            self.children = [[i] for i in self.children]\n",
    "\n",
    "        if len(forkarr) > 0:\n",
    "            self.forkarr = forkarr\n",
    "            self.parent = self.forkarr[:-1]\n",
    "            self.linarr = [self.forkarr[0]]\n",
    "            self.lineage = int(self.lineages.index(self.linarr))\n",
    "        else:\n",
    "            self.forkarr = []\n",
    "            self.parent = np.nan\n",
    "            self.linarr = []\n",
    "            self.lineage = np.nan\n",
    "        self.status = 'open'\n",
    "        self.ch_assgnmts = [[i,j] for i in self.nodes_closed for \n",
    "            j in range(len(self.rsltmtx[:,i])) if ((self.rsltmtx[:,i][j] + int_thres) // 1) == 1]\n",
    "\n",
    "        self.makeBnBdf()\n",
    "\n",
    "    def makeBnBdf(self):\n",
    "        self.dfdata = { 'branch coords' : [self.forkarr],\n",
    "                        'lineage' : self.lineage,\n",
    "                        'generation' : len(self.forkarr) + 1,\n",
    "                        'gen counter' : 0,\n",
    "                        'children' : [self.children],\n",
    "                        'span' : self.span,\n",
    "                        'obj function' : self.result.fun,\n",
    "                        'open chans' : [self.chans_open],\n",
    "                        'open nodes' : [self.nodes_open],\n",
    "                        'closed nodes' : [self.nodes_closed],\n",
    "                        'num children' : len(self.children),\n",
    "                        'num open chans' : len(self.chans_open),\n",
    "                        'num open nodes' : len(self.nodes_open),\n",
    "                        'num closed nodes' : len(self.nodes_closed),\n",
    "                        'status' : self.status,\n",
    "                        'ch assgnmts' : [self.ch_assgnmts]\n",
    "                        }\n",
    "        self.df = pd.DataFrame(self.dfdata, index = [0])"
   ]
  },
  {
   "cell_type": "code",
   "execution_count": 5,
   "metadata": {},
   "outputs": [
    {
     "name": "stdout",
     "output_type": "stream",
     "text": [
      "min span: 3\n"
     ]
    },
    {
     "data": {
      "image/png": "[encoded data removed]",
      "text/plain": [
       "<Figure size 216x72 with 1 Axes>"
      ]
     },
     "metadata": {
      "needs_background": "light"
     },
     "output_type": "display_data"
    }
   ],
   "source": [
    "nineline = np.array([[j,0] for j in range(9)])\n",
    "line_k1 = towers(abtoxy(nineline), 20, adj_k=1)\n",
    "line_k1.plant()\n",
    "line_k1.grow()\n",
    "line_k1.bnb_drill(1000)\n",
    "print(f'min span: {line_k1.min_int_span}')\n",
    "line_k1.plot_channels(abax=False,square=False,buffer=1,fig_size=(3,1))"
   ]
  },
  {
   "cell_type": "code",
   "execution_count": 6,
   "metadata": {},
   "outputs": [
    {
     "name": "stdout",
     "output_type": "stream",
     "text": [
      "min span: 5\n"
     ]
    },
    {
     "data": {
      "image/png": "[encoded data removed]",
      "text/plain": [
       "<Figure size 216x72 with 1 Axes>"
      ]
     },
     "metadata": {
      "needs_background": "light"
     },
     "output_type": "display_data"
    }
   ],
   "source": [
    "line_k2 = towers(abtoxy(nineline), 20, adj_k=2)\n",
    "line_k2.plant()\n",
    "line_k2.grow()\n",
    "line_k2.bnb_drill(1000)\n",
    "print(f'min span: {line_k2.min_int_span}')\n",
    "line_k2.plot_channels(abax=False,square=False,buffer=1,fig_size=(3,1))"
   ]
  },
  {
   "cell_type": "code",
   "execution_count": 7,
   "metadata": {},
   "outputs": [
    {
     "name": "stdout",
     "output_type": "stream",
     "text": [
      "min span: 6\n"
     ]
    },
    {
     "data": {
      "image/png": "[encoded data removed]",
      "text/plain": [
       "<Figure size 216x72 with 1 Axes>"
      ]
     },
     "metadata": {
      "needs_background": "light"
     },
     "output_type": "display_data"
    }
   ],
   "source": [
    "line_k3 = towers(abtoxy(nineline), 20, adj_k=3)\n",
    "line_k3.plant()\n",
    "line_k3.grow()\n",
    "line_k3.bnb_drill(1000)\n",
    "print(f'min span: {line_k3.min_int_span}')\n",
    "line_k3.plot_channels(abax=False,square=False,buffer=1,fig_size=(3,1))"
   ]
  },
  {
   "cell_type": "code",
   "execution_count": 8,
   "metadata": {},
   "outputs": [
    {
     "name": "stdout",
     "output_type": "stream",
     "text": [
      "min span: 7\n"
     ]
    },
    {
     "data": {
      "image/png": "[encoded data removed]",
      "text/plain": [
       "<Figure size 216x72 with 1 Axes>"
      ]
     },
     "metadata": {
      "needs_background": "light"
     },
     "output_type": "display_data"
    }
   ],
   "source": [
    "line_k4 = towers(abtoxy(nineline), 20, adj_k=4)\n",
    "line_k4.plant()\n",
    "line_k4.grow()\n",
    "line_k4.bnb_drill(1000)\n",
    "print(f'min span: {line_k4.min_int_span}')\n",
    "line_k4.plot_channels(abax=False,square=False,buffer=1,fig_size=(3,1))"
   ]
  },
  {
   "cell_type": "code",
   "execution_count": 9,
   "metadata": {},
   "outputs": [
    {
     "name": "stdout",
     "output_type": "stream",
     "text": [
      "min span: 7\n"
     ]
    },
    {
     "data": {
      "image/png": "[encoded data removed]",
      "text/plain": [
       "<Figure size 216x216 with 1 Axes>"
      ]
     },
     "metadata": {
      "needs_background": "light"
     },
     "output_type": "display_data"
    }
   ],
   "source": [
    "hex1_k1 = towers(abtoxy(hextoab(1)), 20, adj_k=1)\n",
    "hex1_k1.plant()\n",
    "hex1_k1.grow()\n",
    "hex1_k1.bnb_lin_drill_cycle(50, cycles=1)\n",
    "print(f'min span: {hex1_k1.min_int_span}')\n",
    "hex1_k1.plot_channels()"
   ]
  },
  {
   "cell_type": "code",
   "execution_count": 10,
   "metadata": {},
   "outputs": [
    {
     "name": "stdout",
     "output_type": "stream",
     "text": [
      "min span: 8\n"
     ]
    },
    {
     "data": {
      "image/png": "[encoded data removed]",
      "text/plain": [
       "<Figure size 216x216 with 1 Axes>"
      ]
     },
     "metadata": {
      "needs_background": "light"
     },
     "output_type": "display_data"
    }
   ],
   "source": [
    "hex1_k2 = towers(abtoxy(hextoab(1)), 20, adj_k=2)\n",
    "hex1_k2.plant()\n",
    "hex1_k2.grow()\n",
    "hex1_k2.bnb_lin_drill_cycle(50, cycles=1)\n",
    "print(f'min span: {hex1_k2.min_int_span}')\n",
    "hex1_k2.plot_channels()"
   ]
  },
  {
   "cell_type": "code",
   "execution_count": 11,
   "metadata": {},
   "outputs": [
    {
     "name": "stdout",
     "output_type": "stream",
     "text": [
      "min span: 10\n"
     ]
    },
    {
     "data": {
      "image/png": "[encoded data removed]",
      "text/plain": [
       "<Figure size 216x216 with 1 Axes>"
      ]
     },
     "metadata": {
      "needs_background": "light"
     },
     "output_type": "display_data"
    }
   ],
   "source": [
    "hex1_k3 = towers(abtoxy(hextoab(1)), 20, adj_k=3)\n",
    "hex1_k3.plant()\n",
    "hex1_k3.grow()\n",
    "hex1_k3.bnb_lin_drill_cycle(50, cycles=1)\n",
    "print(f'min span: {hex1_k3.min_int_span}')\n",
    "hex1_k3.plot_channels()"
   ]
  },
  {
   "cell_type": "code",
   "execution_count": 12,
   "metadata": {},
   "outputs": [
    {
     "name": "stdout",
     "output_type": "stream",
     "text": [
      "min span: 12\n"
     ]
    },
    {
     "data": {
      "image/png": "[encoded data removed]",
      "text/plain": [
       "<Figure size 216x216 with 1 Axes>"
      ]
     },
     "metadata": {
      "needs_background": "light"
     },
     "output_type": "display_data"
    }
   ],
   "source": [
    "hex1_k4 = towers(abtoxy(hextoab(1)), 20, adj_k=4)\n",
    "hex1_k4.plant()\n",
    "hex1_k4.grow()\n",
    "hex1_k4.bnb_lin_drill_cycle(50, cycles=1)\n",
    "print(f'min span: {hex1_k4.min_int_span}')\n",
    "hex1_k4.plot_channels()"
   ]
  },
  {
   "cell_type": "code",
   "execution_count": 13,
   "metadata": {},
   "outputs": [
    {
     "name": "stdout",
     "output_type": "stream",
     "text": [
      "min span: 10\n"
     ]
    },
    {
     "data": {
      "image/png": "[encoded data removed]",
      "text/plain": [
       "<Figure size 216x216 with 1 Axes>"
      ]
     },
     "metadata": {
      "needs_background": "light"
     },
     "output_type": "display_data"
    }
   ],
   "source": [
    "hex2_k2_drill = towers(abtoxy(hextoab(2)), 20, adj_k=2)\n",
    "hex2_k2_drill.plant()\n",
    "hex2_k2_drill.grow()\n",
    "hex2_k2_drill.bnb_drill(1000)\n",
    "print(f'min span: {hex2_k2_drill.min_int_span}')\n",
    "hex2_k2_drill.plot_channels()"
   ]
  },
  {
   "cell_type": "code",
   "execution_count": 14,
   "metadata": {},
   "outputs": [
    {
     "name": "stdout",
     "output_type": "stream",
     "text": [
      "min span: 11\n"
     ]
    },
    {
     "data": {
      "image/png": "[encoded data removed]",
      "text/plain": [
       "<Figure size 216x216 with 1 Axes>"
      ]
     },
     "metadata": {
      "needs_background": "light"
     },
     "output_type": "display_data"
    }
   ],
   "source": [
    "hex2_k2_cycles_1000tot = towers(abtoxy(hextoab(2)), 20, adj_k=2)\n",
    "hex2_k2_cycles_1000tot.plant()\n",
    "hex2_k2_cycles_1000tot.grow()\n",
    "hex2_k2_cycles_1000tot.bnb_lin_drill_cycle(53)\n",
    "print(f'min span: {hex2_k2_cycles_1000tot.min_int_span}')\n",
    "hex2_k2_cycles_1000tot.plot_channels()"
   ]
  },
  {
   "cell_type": "code",
   "execution_count": 15,
   "metadata": {},
   "outputs": [
    {
     "name": "stdout",
     "output_type": "stream",
     "text": [
      "min span: 11\n"
     ]
    },
    {
     "data": {
      "image/png": "[encoded data removed]",
      "text/plain": [
       "<Figure size 216x216 with 1 Axes>"
      ]
     },
     "metadata": {
      "needs_background": "light"
     },
     "output_type": "display_data"
    }
   ],
   "source": [
    "hex2_k2_min_obj_max_gen = towers(abtoxy(hextoab(2)), 20, adj_k=2)\n",
    "hex2_k2_min_obj_max_gen.plant()\n",
    "hex2_k2_min_obj_max_gen.grow()\n",
    "hex2_k2_min_obj_max_gen.bnb_min_obj_max_gen(1000)\n",
    "print(f'min span: {hex2_k2_min_obj_max_gen.min_int_span}')\n",
    "hex2_k2_min_obj_max_gen.plot_channels()"
   ]
  },
  {
   "cell_type": "code",
   "execution_count": 54,
   "metadata": {},
   "outputs": [
    {
     "data": {
      "text/plain": [
       "Text(0.5, 0, 'iteration')"
      ]
     },
     "execution_count": 54,
     "metadata": {},
     "output_type": "execute_result"
    },
    {
     "data": {
      "image/png": "[encoded data removed]",
      "text/plain": [
       "<Figure size 288x216 with 1 Axes>"
      ]
     },
     "metadata": {
      "needs_background": "light"
     },
     "output_type": "display_data"
    }
   ],
   "source": [
    "pl1 = plt.figure(figsize=(4,3))\n",
    "ax1 = plt.axes()\n",
    "ax1.plot(hex2_k2_drill.resultsdf['min integer span'],label=\"drill\")\n",
    "ax1.plot(hex2_k2_cycles_1000tot.resultsdf['min integer span'],label=\"drill cycle\")\n",
    "ax1.plot(hex2_k2_min_obj_max_gen.resultsdf['min integer span'],label=\"min obj func\")\n",
    "pl1.legend(loc='upper center',ncol=3)\n",
    "ax1.set_xlabel('iteration')"
   ]
  },
  {
   "cell_type": "code",
   "execution_count": 52,
   "metadata": {},
   "outputs": [
    {
     "data": {
      "text/plain": [
       "Text(0.5, 0, 'iteration')"
      ]
     },
     "execution_count": 52,
     "metadata": {},
     "output_type": "execute_result"
    },
    {
     "data": {
      "image/png": "[encoded data removed]",
      "text/plain": [
       "<Figure size 288x216 with 1 Axes>"
      ]
     },
     "metadata": {
      "needs_background": "light"
     },
     "output_type": "display_data"
    }
   ],
   "source": [
    "pl2 = plt.figure(figsize=(4,3))\n",
    "ax2 = plt.axes()\n",
    "ax2.plot(hex2_k2_drill.resultsdf['integer solns'],label=\"drill\")\n",
    "ax2.plot(hex2_k2_cycles_1000tot.resultsdf['integer solns'],label=\"drill cycle\")\n",
    "ax2.plot(hex2_k2_min_obj_max_gen.resultsdf['integer solns'],label=\"min obj func\")\n",
    "pl2.legend(loc='upper center',ncol=3)\n",
    "ax2.set_xlabel('iteration')"
   ]
  },
  {
   "cell_type": "code",
   "execution_count": 55,
   "metadata": {},
   "outputs": [
    {
     "data": {
      "text/plain": [
       "Text(0.5, 0, 'iteration')"
      ]
     },
     "execution_count": 55,
     "metadata": {},
     "output_type": "execute_result"
    },
    {
     "data": {
      "image/png": "[encoded data removed]",
      "text/plain": [
       "<Figure size 288x216 with 1 Axes>"
      ]
     },
     "metadata": {
      "needs_background": "light"
     },
     "output_type": "display_data"
    }
   ],
   "source": [
    "pl3 = plt.figure(figsize=(4,3))\n",
    "ax3 = plt.axes()\n",
    "ax3.plot(hex2_k2_drill.resultsdf['opened branches'],label=\"drill\")\n",
    "ax3.plot(hex2_k2_cycles_1000tot.resultsdf['opened branches'],label=\"drill cycle\")\n",
    "ax3.plot(hex2_k2_min_obj_max_gen.resultsdf['opened branches'],label=\"min obj func\")\n",
    "pl3.legend(loc='upper center',ncol=3)\n",
    "ax3.set_xlabel('iteration')"
   ]
  },
  {
   "cell_type": "code",
   "execution_count": 67,
   "metadata": {},
   "outputs": [
    {
     "data": {
      "text/html": [
       "<div>\n",
       "<style scoped>\n",
       "    .dataframe tbody tr th:only-of-type {\n",
       "        vertical-align: middle;\n",
       "    }\n",
       "\n",
       "    .dataframe tbody tr th {\n",
       "        vertical-align: top;\n",
       "    }\n",
       "\n",
       "    .dataframe thead th {\n",
       "        text-align: right;\n",
       "    }\n",
       "</style>\n",
       "<table border=\"1\" class=\"dataframe\">\n",
       "  <thead>\n",
       "    <tr style=\"text-align: right;\">\n",
       "      <th></th>\n",
       "      <th>iters</th>\n",
       "      <th>integer solns</th>\n",
       "      <th>min integer span</th>\n",
       "      <th>min integer obj</th>\n",
       "      <th>opened branches</th>\n",
       "    </tr>\n",
       "  </thead>\n",
       "  <tbody>\n",
       "    <tr>\n",
       "      <th>498</th>\n",
       "      <td>500</td>\n",
       "      <td>6</td>\n",
       "      <td>11.0</td>\n",
       "      <td>1.077901e+13</td>\n",
       "      <td>1194</td>\n",
       "    </tr>\n",
       "    <tr>\n",
       "      <th>998</th>\n",
       "      <td>1000</td>\n",
       "      <td>7</td>\n",
       "      <td>10.0</td>\n",
       "      <td>1.076551e+12</td>\n",
       "      <td>2390</td>\n",
       "    </tr>\n",
       "  </tbody>\n",
       "</table>\n",
       "</div>"
      ],
      "text/plain": [
       "     iters  integer solns  min integer span  min integer obj  opened branches\n",
       "498    500              6              11.0     1.077901e+13             1194\n",
       "998   1000              7              10.0     1.076551e+12             2390"
      ]
     },
     "execution_count": 67,
     "metadata": {},
     "output_type": "execute_result"
    }
   ],
   "source": [
    "hex2_k2_drill.resultsdf[(hex2_k2_drill.resultsdf['iters']==500) | \n",
    "    (hex2_k2_drill.resultsdf['iters']==1000)]"
   ]
  },
  {
   "cell_type": "code",
   "execution_count": 69,
   "metadata": {},
   "outputs": [
    {
     "data": {
      "text/html": [
       "<div>\n",
       "<style scoped>\n",
       "    .dataframe tbody tr th:only-of-type {\n",
       "        vertical-align: middle;\n",
       "    }\n",
       "\n",
       "    .dataframe tbody tr th {\n",
       "        vertical-align: top;\n",
       "    }\n",
       "\n",
       "    .dataframe thead th {\n",
       "        text-align: right;\n",
       "    }\n",
       "</style>\n",
       "<table border=\"1\" class=\"dataframe\">\n",
       "  <thead>\n",
       "    <tr style=\"text-align: right;\">\n",
       "      <th></th>\n",
       "      <th>iters</th>\n",
       "      <th>integer solns</th>\n",
       "      <th>min integer span</th>\n",
       "      <th>min integer obj</th>\n",
       "      <th>opened branches</th>\n",
       "    </tr>\n",
       "  </thead>\n",
       "  <tbody>\n",
       "    <tr>\n",
       "      <th>498</th>\n",
       "      <td>500</td>\n",
       "      <td>27</td>\n",
       "      <td>11.0</td>\n",
       "      <td>1.077901e+13</td>\n",
       "      <td>1404</td>\n",
       "    </tr>\n",
       "    <tr>\n",
       "      <th>998</th>\n",
       "      <td>1000</td>\n",
       "      <td>45</td>\n",
       "      <td>11.0</td>\n",
       "      <td>1.077895e+13</td>\n",
       "      <td>2317</td>\n",
       "    </tr>\n",
       "  </tbody>\n",
       "</table>\n",
       "</div>"
      ],
      "text/plain": [
       "     iters  integer solns  min integer span  min integer obj  opened branches\n",
       "498    500             27              11.0     1.077901e+13             1404\n",
       "998   1000             45              11.0     1.077895e+13             2317"
      ]
     },
     "execution_count": 69,
     "metadata": {},
     "output_type": "execute_result"
    }
   ],
   "source": [
    "hex2_k2_cycles_1000tot.resultsdf[(hex2_k2_cycles_1000tot.resultsdf['iters']==500) | \n",
    "    (hex2_k2_cycles_1000tot.resultsdf['iters']==1000)]"
   ]
  },
  {
   "cell_type": "code",
   "execution_count": 70,
   "metadata": {},
   "outputs": [
    {
     "data": {
      "text/html": [
       "<div>\n",
       "<style scoped>\n",
       "    .dataframe tbody tr th:only-of-type {\n",
       "        vertical-align: middle;\n",
       "    }\n",
       "\n",
       "    .dataframe tbody tr th {\n",
       "        vertical-align: top;\n",
       "    }\n",
       "\n",
       "    .dataframe thead th {\n",
       "        text-align: right;\n",
       "    }\n",
       "</style>\n",
       "<table border=\"1\" class=\"dataframe\">\n",
       "  <thead>\n",
       "    <tr style=\"text-align: right;\">\n",
       "      <th></th>\n",
       "      <th>iters</th>\n",
       "      <th>integer solns</th>\n",
       "      <th>min integer span</th>\n",
       "      <th>min integer obj</th>\n",
       "      <th>opened branches</th>\n",
       "    </tr>\n",
       "  </thead>\n",
       "  <tbody>\n",
       "    <tr>\n",
       "      <th>498</th>\n",
       "      <td>500</td>\n",
       "      <td>792</td>\n",
       "      <td>12.0</td>\n",
       "      <td>2.053658e+14</td>\n",
       "      <td>15666</td>\n",
       "    </tr>\n",
       "    <tr>\n",
       "      <th>998</th>\n",
       "      <td>1000</td>\n",
       "      <td>1044</td>\n",
       "      <td>11.0</td>\n",
       "      <td>2.101901e+13</td>\n",
       "      <td>31590</td>\n",
       "    </tr>\n",
       "  </tbody>\n",
       "</table>\n",
       "</div>"
      ],
      "text/plain": [
       "     iters  integer solns  min integer span  min integer obj  opened branches\n",
       "498    500            792              12.0     2.053658e+14            15666\n",
       "998   1000           1044              11.0     2.101901e+13            31590"
      ]
     },
     "execution_count": 70,
     "metadata": {},
     "output_type": "execute_result"
    }
   ],
   "source": [
    "hex2_k2_min_obj_max_gen.resultsdf[(hex2_k2_min_obj_max_gen.resultsdf['iters']==500) | \n",
    "    (hex2_k2_min_obj_max_gen.resultsdf['iters']==1000)]"
   ]
  },
  {
   "cell_type": "code",
   "execution_count": 16,
   "metadata": {},
   "outputs": [
    {
     "data": {
      "text/plain": [
       "<AxesSubplot:>"
      ]
     },
     "execution_count": 16,
     "metadata": {},
     "output_type": "execute_result"
    },
    {
     "data": {
      "image/png": "[encoded data removed]",
      "text/plain": [
       "<Figure size 216x216 with 1 Axes>"
      ]
     },
     "metadata": {
      "needs_background": "light"
     },
     "output_type": "display_data"
    }
   ],
   "source": [
    "hex2_k2_drill.resultsdf['min integer span'].plot(figsize=(3,3))"
   ]
  },
  {
   "cell_type": "code",
   "execution_count": 17,
   "metadata": {},
   "outputs": [
    {
     "data": {
      "text/plain": [
       "<AxesSubplot:>"
      ]
     },
     "execution_count": 17,
     "metadata": {},
     "output_type": "execute_result"
    },
    {
     "data": {
      "image/png": "[encoded data removed]",
      "text/plain": [
       "<Figure size 216x216 with 1 Axes>"
      ]
     },
     "metadata": {
      "needs_background": "light"
     },
     "output_type": "display_data"
    }
   ],
   "source": [
    "hex2_k2_drill.resultsdf['integer solns'].plot(figsize=(3,3))"
   ]
  },
  {
   "cell_type": "code",
   "execution_count": 18,
   "metadata": {},
   "outputs": [
    {
     "data": {
      "text/plain": [
       "<AxesSubplot:>"
      ]
     },
     "execution_count": 18,
     "metadata": {},
     "output_type": "execute_result"
    },
    {
     "data": {
      "image/png": "[encoded data removed]",
      "text/plain": [
       "<Figure size 216x216 with 1 Axes>"
      ]
     },
     "metadata": {
      "needs_background": "light"
     },
     "output_type": "display_data"
    }
   ],
   "source": [
    "hex2_k2_drill.resultsdf['opened branches'].plot(figsize=(3,3))"
   ]
  },
  {
   "cell_type": "code",
   "execution_count": 19,
   "metadata": {},
   "outputs": [
    {
     "data": {
      "text/plain": [
       "<AxesSubplot:>"
      ]
     },
     "execution_count": 19,
     "metadata": {},
     "output_type": "execute_result"
    },
    {
     "data": {
      "image/png": "[encoded data removed]",
      "text/plain": [
       "<Figure size 216x216 with 1 Axes>"
      ]
     },
     "metadata": {
      "needs_background": "light"
     },
     "output_type": "display_data"
    }
   ],
   "source": [
    "hex2_k2_cycles_1000tot.resultsdf['min integer span'].plot(figsize=(3,3))"
   ]
  },
  {
   "cell_type": "code",
   "execution_count": 20,
   "metadata": {},
   "outputs": [
    {
     "data": {
      "text/plain": [
       "<AxesSubplot:>"
      ]
     },
     "execution_count": 20,
     "metadata": {},
     "output_type": "execute_result"
    },
    {
     "data": {
      "image/png": "[encoded data removed]",
      "text/plain": [
       "<Figure size 216x216 with 1 Axes>"
      ]
     },
     "metadata": {
      "needs_background": "light"
     },
     "output_type": "display_data"
    }
   ],
   "source": [
    "hex2_k2_cycles_1000tot.resultsdf['integer solns'].plot(figsize=(3,3))"
   ]
  },
  {
   "cell_type": "code",
   "execution_count": 21,
   "metadata": {},
   "outputs": [
    {
     "data": {
      "text/plain": [
       "<AxesSubplot:>"
      ]
     },
     "execution_count": 21,
     "metadata": {},
     "output_type": "execute_result"
    },
    {
     "data": {
      "image/png": "[encoded data removed]",
      "text/plain": [
       "<Figure size 216x216 with 1 Axes>"
      ]
     },
     "metadata": {
      "needs_background": "light"
     },
     "output_type": "display_data"
    }
   ],
   "source": [
    "hex2_k2_cycles_1000tot.resultsdf['opened branches'].plot(figsize=(3,3))"
   ]
  },
  {
   "cell_type": "code",
   "execution_count": 25,
   "metadata": {},
   "outputs": [
    {
     "name": "stdout",
     "output_type": "stream",
     "text": [
      "min span: 8\n"
     ]
    },
    {
     "data": {
      "image/png": "[encoded data removed]",
      "text/plain": [
       "<Figure size 216x216 with 1 Axes>"
      ]
     },
     "metadata": {
      "needs_background": "light"
     },
     "output_type": "display_data"
    }
   ],
   "source": [
    "random10_5_arr = randomxy(10,5,5)\n",
    "random10_5_drill = towers(random10_5_arr, 25, adj_k=2)\n",
    "random10_5_drill.plant()\n",
    "random10_5_drill.grow()\n",
    "random10_5_drill.bnb_drill(1000)\n",
    "print(f'min span: {random10_5_drill.min_int_span}')\n",
    "random10_5_drill.plot_channels()"
   ]
  },
  {
   "cell_type": "code",
   "execution_count": 26,
   "metadata": {},
   "outputs": [
    {
     "name": "stdout",
     "output_type": "stream",
     "text": [
      "min span: 8\n"
     ]
    },
    {
     "data": {
      "image/png": "[encoded data removed]",
      "text/plain": [
       "<Figure size 216x216 with 1 Axes>"
      ]
     },
     "metadata": {
      "needs_background": "light"
     },
     "output_type": "display_data"
    }
   ],
   "source": [
    "random10_5_cycles = towers(random10_5_arr, 25, adj_k=2)\n",
    "random10_5_cycles.plant()\n",
    "random10_5_cycles.grow()\n",
    "random10_5_cycles.bnb_lin_drill_cycle(100,cycles=1)\n",
    "print(f'min span: {random10_5_cycles.min_int_span}')\n",
    "random10_5_cycles.plot_channels()"
   ]
  },
  {
   "cell_type": "code",
   "execution_count": 27,
   "metadata": {},
   "outputs": [
    {
     "name": "stdout",
     "output_type": "stream",
     "text": [
      "min span: 10\n"
     ]
    },
    {
     "data": {
      "image/png": "[encoded data removed]",
      "text/plain": [
       "<Figure size 216x216 with 1 Axes>"
      ]
     },
     "metadata": {
      "needs_background": "light"
     },
     "output_type": "display_data"
    }
   ],
   "source": [
    "random10_4_arr = randomxy(10,4,4)\n",
    "random10_4_drill = towers(random10_4_arr, 25, adj_k=2)\n",
    "random10_4_drill.plant()\n",
    "random10_4_drill.grow()\n",
    "random10_4_drill.bnb_drill(1000)\n",
    "print(f'min span: {random10_4_drill.min_int_span}')\n",
    "random10_4_drill.plot_channels()"
   ]
  },
  {
   "cell_type": "code",
   "execution_count": 28,
   "metadata": {},
   "outputs": [
    {
     "name": "stdout",
     "output_type": "stream",
     "text": [
      "min span: 10\n"
     ]
    },
    {
     "data": {
      "image/png": "[encoded data removed]",
      "text/plain": [
       "<Figure size 216x216 with 1 Axes>"
      ]
     },
     "metadata": {
      "needs_background": "light"
     },
     "output_type": "display_data"
    }
   ],
   "source": [
    "random10_4_cycles = towers(random10_4_arr, 25, adj_k=2)\n",
    "random10_4_cycles.plant()\n",
    "random10_4_cycles.grow()\n",
    "random10_4_cycles.bnb_lin_drill_cycle(100,cycles=1)\n",
    "print(f'min span: {random10_4_cycles.min_int_span}')\n",
    "random10_4_cycles.plot_channels()"
   ]
  },
  {
   "cell_type": "code",
   "execution_count": 29,
   "metadata": {},
   "outputs": [
    {
     "name": "stdout",
     "output_type": "stream",
     "text": [
      "min span: 14\n"
     ]
    },
    {
     "data": {
      "image/png": "[encoded data removed]",
      "text/plain": [
       "<Figure size 216x216 with 1 Axes>"
      ]
     },
     "metadata": {
      "needs_background": "light"
     },
     "output_type": "display_data"
    }
   ],
   "source": [
    "random10_3_arr = randomxy(10,3,3)\n",
    "random10_3_drill = towers(random10_3_arr, 25, adj_k=2)\n",
    "random10_3_drill.plant()\n",
    "random10_3_drill.grow()\n",
    "random10_3_drill.bnb_drill(1000)\n",
    "print(f'min span: {random10_3_drill.min_int_span}')\n",
    "random10_3_drill.plot_channels()"
   ]
  },
  {
   "cell_type": "code",
   "execution_count": 30,
   "metadata": {},
   "outputs": [
    {
     "name": "stdout",
     "output_type": "stream",
     "text": [
      "min span: 14\n"
     ]
    },
    {
     "data": {
      "image/png": "[encoded data removed]",
      "text/plain": [
       "<Figure size 216x216 with 1 Axes>"
      ]
     },
     "metadata": {
      "needs_background": "light"
     },
     "output_type": "display_data"
    }
   ],
   "source": [
    "random10_3_cycles = towers(random10_3_arr, 25, adj_k=2)\n",
    "random10_3_cycles.plant()\n",
    "random10_3_cycles.grow()\n",
    "random10_3_cycles.bnb_lin_drill_cycle(100,cycles=1)\n",
    "print(f'min span: {random10_3_cycles.min_int_span}')\n",
    "random10_3_cycles.plot_channels()"
   ]
  },
  {
   "cell_type": "code",
   "execution_count": 31,
   "metadata": {},
   "outputs": [
    {
     "data": {
      "text/plain": [
       "(8040, 740)"
      ]
     },
     "execution_count": 31,
     "metadata": {},
     "output_type": "execute_result"
    }
   ],
   "source": [
    "hex3_k2 = towers(abtoxy(hextoab(3)), 20, adj_k=2)\n",
    "hex3_k2.plant()\n",
    "hex3_k2.grow()\n",
    "hex3_k2.Aub.shape"
   ]
  }
 ],
 "metadata": {
  "interpreter": {
   "hash": "c480fffb9c9bf00f8510876836fde2a7118e35deb653bd9fea6360aa9feb4f8a"
  },
  "kernelspec": {
   "display_name": "Python 3 (ipykernel)",
   "language": "python",
   "name": "python3"
  },
  "language_info": {
   "codemirror_mode": {
    "name": "ipython",
    "version": 3
   },
   "file_extension": ".py",
   "mimetype": "text/x-python",
   "name": "python",
   "nbconvert_exporter": "python",
   "pygments_lexer": "ipython3",
   "version": "3.8.12"
  }
 },
 "nbformat": 4,
 "nbformat_minor": 2
}
